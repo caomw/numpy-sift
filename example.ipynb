{
 "cells": [
  {
   "cell_type": "code",
   "execution_count": 1,
   "metadata": {
    "collapsed": false
   },
   "outputs": [],
   "source": [
    "from numpy_sift import SIFTDescriptor \n",
    "SD = SIFTDescriptor(patchSize = 65 )"
   ]
  },
  {
   "cell_type": "code",
   "execution_count": 3,
   "metadata": {
    "collapsed": false
   },
   "outputs": [
    {
     "name": "stdout",
     "output_type": "stream",
     "text": [
      "time 0.00282597541809\n",
      "[  1   6  46   9   4   3   1   0   9  18  38  37  31   3   0   2  78  13\n",
      "   3  15  29   4   2  22  30  12   2   1   1   2   4  12   0  16 134  30\n",
      "   1   0   0   0   6  31 134 100 134   4   0   1 134  23   7  43 134   9\n",
      "   3  18  44  67  33   8   4   5   5  35   0  10  42  31  10   1   0   0\n",
      "   6   3  14  87 134   7   0   0 134  20   2  33 134   9   2  23  64  39\n",
      "  13   4   4   6  14  64   1   2   3   9  14   3   2   2   3   4   4  34\n",
      " 134  14   3   1  93  14   1  16 134  10   1  14  54  28   5   2   3   1\n",
      "   4  32]\n"
     ]
    }
   ],
   "source": [
    "import sys\n",
    "sys.path.insert(0, '/home/ubuntu/dev/opencv-3.1/build/lib')\n",
    "import cv2\n",
    "import time\n",
    "\n",
    "image = cv2.imread('/home/old-ufo/dev/pysift/i_ajuntament/e1.png',0)\n",
    "ps = 65\n",
    "patch = image[0:ps,0:ps]\n",
    "t = time.time()\n",
    "sift = SD.describe(patch)\n",
    "print 'time', time.time() - t\n",
    "print sift"
   ]
  }
 ],
 "metadata": {
  "kernelspec": {
   "display_name": "Python 2",
   "language": "python",
   "name": "python2"
  },
  "language_info": {
   "codemirror_mode": {
    "name": "ipython",
    "version": 2
   },
   "file_extension": ".py",
   "mimetype": "text/x-python",
   "name": "python",
   "nbconvert_exporter": "python",
   "pygments_lexer": "ipython2",
   "version": "2.7.12"
  }
 },
 "nbformat": 4,
 "nbformat_minor": 0
}
